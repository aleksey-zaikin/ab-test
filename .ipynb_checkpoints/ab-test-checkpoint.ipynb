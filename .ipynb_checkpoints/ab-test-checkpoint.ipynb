{
 "cells": [
  {
   "cell_type": "code",
   "execution_count": 1,
   "id": "68c9359f",
   "metadata": {},
   "outputs": [],
   "source": [
    "import pandas as pd\n",
    "import numpy as np\n",
    "import seaborn as sns\n",
    "import matplotlib.pyplot as plt\n",
    "from scipy import stats\n",
    "%matplotlib inline"
   ]
  },
  {
   "cell_type": "code",
   "execution_count": 2,
   "id": "9eafaa1d",
   "metadata": {},
   "outputs": [],
   "source": [
    "# Считываем данные:\n",
    "# История заказов пользователей\n",
    "users_data = pd.read_csv('ab_users_data.csv', parse_dates=['time', 'date'])\n",
    "\n",
    "# Подробная информация о продуктах, их название и стоимость\n",
    "products = pd.read_csv('ab_products.csv')\n",
    "\n",
    "# Информация о составе заказа\n",
    "orders = pd.read_csv('ab_orders.csv', parse_dates=['creation_time'])"
   ]
  },
  {
   "cell_type": "markdown",
   "id": "eba95757",
   "metadata": {},
   "source": [
    "#### Для начала посмотрим на данные"
   ]
  },
  {
   "cell_type": "code",
   "execution_count": 3,
   "id": "6fa36843",
   "metadata": {
    "scrolled": false
   },
   "outputs": [
    {
     "data": {
      "text/html": [
       "<div>\n",
       "<style scoped>\n",
       "    .dataframe tbody tr th:only-of-type {\n",
       "        vertical-align: middle;\n",
       "    }\n",
       "\n",
       "    .dataframe tbody tr th {\n",
       "        vertical-align: top;\n",
       "    }\n",
       "\n",
       "    .dataframe thead th {\n",
       "        text-align: right;\n",
       "    }\n",
       "</style>\n",
       "<table border=\"1\" class=\"dataframe\">\n",
       "  <thead>\n",
       "    <tr style=\"text-align: right;\">\n",
       "      <th></th>\n",
       "      <th>user_id</th>\n",
       "      <th>order_id</th>\n",
       "      <th>action</th>\n",
       "      <th>time</th>\n",
       "      <th>date</th>\n",
       "      <th>group</th>\n",
       "    </tr>\n",
       "  </thead>\n",
       "  <tbody>\n",
       "    <tr>\n",
       "      <th>0</th>\n",
       "      <td>964</td>\n",
       "      <td>1255</td>\n",
       "      <td>create_order</td>\n",
       "      <td>2022-08-26 00:00:19</td>\n",
       "      <td>2022-08-26</td>\n",
       "      <td>0</td>\n",
       "    </tr>\n",
       "    <tr>\n",
       "      <th>1</th>\n",
       "      <td>965</td>\n",
       "      <td>1256</td>\n",
       "      <td>create_order</td>\n",
       "      <td>2022-08-26 00:02:21</td>\n",
       "      <td>2022-08-26</td>\n",
       "      <td>1</td>\n",
       "    </tr>\n",
       "    <tr>\n",
       "      <th>2</th>\n",
       "      <td>964</td>\n",
       "      <td>1257</td>\n",
       "      <td>create_order</td>\n",
       "      <td>2022-08-26 00:02:27</td>\n",
       "      <td>2022-08-26</td>\n",
       "      <td>0</td>\n",
       "    </tr>\n",
       "    <tr>\n",
       "      <th>3</th>\n",
       "      <td>966</td>\n",
       "      <td>1258</td>\n",
       "      <td>create_order</td>\n",
       "      <td>2022-08-26 00:02:56</td>\n",
       "      <td>2022-08-26</td>\n",
       "      <td>0</td>\n",
       "    </tr>\n",
       "    <tr>\n",
       "      <th>4</th>\n",
       "      <td>967</td>\n",
       "      <td>1259</td>\n",
       "      <td>create_order</td>\n",
       "      <td>2022-08-26 00:03:37</td>\n",
       "      <td>2022-08-26</td>\n",
       "      <td>1</td>\n",
       "    </tr>\n",
       "  </tbody>\n",
       "</table>\n",
       "</div>"
      ],
      "text/plain": [
       "   user_id  order_id        action                time       date  group\n",
       "0      964      1255  create_order 2022-08-26 00:00:19 2022-08-26      0\n",
       "1      965      1256  create_order 2022-08-26 00:02:21 2022-08-26      1\n",
       "2      964      1257  create_order 2022-08-26 00:02:27 2022-08-26      0\n",
       "3      966      1258  create_order 2022-08-26 00:02:56 2022-08-26      0\n",
       "4      967      1259  create_order 2022-08-26 00:03:37 2022-08-26      1"
      ]
     },
     "execution_count": 3,
     "metadata": {},
     "output_type": "execute_result"
    }
   ],
   "source": [
    "users_data.head()"
   ]
  },
  {
   "cell_type": "code",
   "execution_count": 4,
   "id": "5b31cc26",
   "metadata": {},
   "outputs": [
    {
     "data": {
      "text/plain": [
       "user_id     0\n",
       "order_id    0\n",
       "action      0\n",
       "time        0\n",
       "date        0\n",
       "group       0\n",
       "dtype: int64"
      ]
     },
     "execution_count": 4,
     "metadata": {},
     "output_type": "execute_result"
    }
   ],
   "source": [
    "users_data.isna().sum()"
   ]
  },
  {
   "cell_type": "code",
   "execution_count": 5,
   "id": "41433bc4",
   "metadata": {},
   "outputs": [
    {
     "name": "stdout",
     "output_type": "stream",
     "text": [
      "2022-08-26 00:00:19 2022-09-08 23:41:24\n"
     ]
    }
   ],
   "source": [
    "# Посмотрим на максимальную и минимальную временную отметку в данных\n",
    "print(users_data.time.min(), users_data.time.max())"
   ]
  },
  {
   "cell_type": "markdown",
   "id": "b3236111",
   "metadata": {},
   "source": [
    "#### Можем сделать вывод, что период проведения А/В-теста ровно 2 недели"
   ]
  },
  {
   "cell_type": "code",
   "execution_count": 6,
   "id": "73dcf72c",
   "metadata": {},
   "outputs": [
    {
     "data": {
      "text/html": [
       "<div>\n",
       "<style scoped>\n",
       "    .dataframe tbody tr th:only-of-type {\n",
       "        vertical-align: middle;\n",
       "    }\n",
       "\n",
       "    .dataframe tbody tr th {\n",
       "        vertical-align: top;\n",
       "    }\n",
       "\n",
       "    .dataframe thead th {\n",
       "        text-align: right;\n",
       "    }\n",
       "</style>\n",
       "<table border=\"1\" class=\"dataframe\">\n",
       "  <thead>\n",
       "    <tr style=\"text-align: right;\">\n",
       "      <th></th>\n",
       "      <th>user_id</th>\n",
       "      <th>order_id</th>\n",
       "    </tr>\n",
       "    <tr>\n",
       "      <th>group</th>\n",
       "      <th></th>\n",
       "      <th></th>\n",
       "    </tr>\n",
       "  </thead>\n",
       "  <tbody>\n",
       "    <tr>\n",
       "      <th>0</th>\n",
       "      <td>515</td>\n",
       "      <td>1609</td>\n",
       "    </tr>\n",
       "    <tr>\n",
       "      <th>1</th>\n",
       "      <td>502</td>\n",
       "      <td>2514</td>\n",
       "    </tr>\n",
       "  </tbody>\n",
       "</table>\n",
       "</div>"
      ],
      "text/plain": [
       "       user_id  order_id\n",
       "group                   \n",
       "0          515      1609\n",
       "1          502      2514"
      ]
     },
     "execution_count": 6,
     "metadata": {},
     "output_type": "execute_result"
    }
   ],
   "source": [
    "# Количество пользователей и количество заказов по группам\n",
    "users_data.groupby('group').agg({'user_id':'nunique', 'order_id':'nunique'})"
   ]
  },
  {
   "cell_type": "code",
   "execution_count": 7,
   "id": "6a14e564",
   "metadata": {},
   "outputs": [
    {
     "data": {
      "text/html": [
       "<div>\n",
       "<style scoped>\n",
       "    .dataframe tbody tr th:only-of-type {\n",
       "        vertical-align: middle;\n",
       "    }\n",
       "\n",
       "    .dataframe tbody tr th {\n",
       "        vertical-align: top;\n",
       "    }\n",
       "\n",
       "    .dataframe thead th {\n",
       "        text-align: right;\n",
       "    }\n",
       "</style>\n",
       "<table border=\"1\" class=\"dataframe\">\n",
       "  <thead>\n",
       "    <tr style=\"text-align: right;\">\n",
       "      <th></th>\n",
       "      <th>group</th>\n",
       "      <th>action</th>\n",
       "      <th>order_id</th>\n",
       "    </tr>\n",
       "  </thead>\n",
       "  <tbody>\n",
       "    <tr>\n",
       "      <th>0</th>\n",
       "      <td>0</td>\n",
       "      <td>cancel_order</td>\n",
       "      <td>82</td>\n",
       "    </tr>\n",
       "    <tr>\n",
       "      <th>1</th>\n",
       "      <td>0</td>\n",
       "      <td>create_order</td>\n",
       "      <td>1609</td>\n",
       "    </tr>\n",
       "    <tr>\n",
       "      <th>2</th>\n",
       "      <td>1</td>\n",
       "      <td>cancel_order</td>\n",
       "      <td>132</td>\n",
       "    </tr>\n",
       "    <tr>\n",
       "      <th>3</th>\n",
       "      <td>1</td>\n",
       "      <td>create_order</td>\n",
       "      <td>2514</td>\n",
       "    </tr>\n",
       "  </tbody>\n",
       "</table>\n",
       "</div>"
      ],
      "text/plain": [
       "   group        action  order_id\n",
       "0      0  cancel_order        82\n",
       "1      0  create_order      1609\n",
       "2      1  cancel_order       132\n",
       "3      1  create_order      2514"
      ]
     },
     "execution_count": 7,
     "metadata": {},
     "output_type": "execute_result"
    }
   ],
   "source": [
    "# Посчитаем количество заказов и долю отмененных заказов в каждой группе\n",
    "cancel_orders = users_data.groupby(['group', 'action'], as_index=False).agg({'order_id':'count'})\n",
    "cancel_orders"
   ]
  },
  {
   "cell_type": "code",
   "execution_count": 8,
   "id": "19505ecf",
   "metadata": {},
   "outputs": [
    {
     "name": "stdout",
     "output_type": "stream",
     "text": [
      "Доля отмененных заказов в группе 0:  0.051\n",
      "Доля отмененных заказов в группе 1:  0.053\n"
     ]
    }
   ],
   "source": [
    "# Доля отмененных заказов по группам\n",
    "print('Доля отмененных заказов в группе 0: ', round(cancel_orders.order_id[0]/cancel_orders.order_id[1], 3))\n",
    "print('Доля отмененных заказов в группе 1: ', round(cancel_orders.order_id[2]/cancel_orders.order_id[3], 3))"
   ]
  },
  {
   "cell_type": "code",
   "execution_count": 9,
   "id": "ee071a4e",
   "metadata": {},
   "outputs": [
    {
     "data": {
      "text/html": [
       "<div>\n",
       "<style scoped>\n",
       "    .dataframe tbody tr th:only-of-type {\n",
       "        vertical-align: middle;\n",
       "    }\n",
       "\n",
       "    .dataframe tbody tr th {\n",
       "        vertical-align: top;\n",
       "    }\n",
       "\n",
       "    .dataframe thead th {\n",
       "        text-align: right;\n",
       "    }\n",
       "</style>\n",
       "<table border=\"1\" class=\"dataframe\">\n",
       "  <thead>\n",
       "    <tr style=\"text-align: right;\">\n",
       "      <th></th>\n",
       "      <th>order_id</th>\n",
       "      <th>creation_time</th>\n",
       "      <th>product_ids</th>\n",
       "    </tr>\n",
       "  </thead>\n",
       "  <tbody>\n",
       "    <tr>\n",
       "      <th>0</th>\n",
       "      <td>1255</td>\n",
       "      <td>2022-08-26 00:00:19</td>\n",
       "      <td>{75, 22, 53, 84}</td>\n",
       "    </tr>\n",
       "    <tr>\n",
       "      <th>1</th>\n",
       "      <td>1256</td>\n",
       "      <td>2022-08-26 00:02:21</td>\n",
       "      <td>{56, 76, 39}</td>\n",
       "    </tr>\n",
       "    <tr>\n",
       "      <th>2</th>\n",
       "      <td>1257</td>\n",
       "      <td>2022-08-26 00:02:27</td>\n",
       "      <td>{76, 34, 41, 38}</td>\n",
       "    </tr>\n",
       "    <tr>\n",
       "      <th>3</th>\n",
       "      <td>1258</td>\n",
       "      <td>2022-08-26 00:02:56</td>\n",
       "      <td>{74, 6}</td>\n",
       "    </tr>\n",
       "    <tr>\n",
       "      <th>4</th>\n",
       "      <td>1259</td>\n",
       "      <td>2022-08-26 00:03:37</td>\n",
       "      <td>{20, 45, 67, 26}</td>\n",
       "    </tr>\n",
       "  </tbody>\n",
       "</table>\n",
       "</div>"
      ],
      "text/plain": [
       "   order_id       creation_time       product_ids\n",
       "0      1255 2022-08-26 00:00:19  {75, 22, 53, 84}\n",
       "1      1256 2022-08-26 00:02:21      {56, 76, 39}\n",
       "2      1257 2022-08-26 00:02:27  {76, 34, 41, 38}\n",
       "3      1258 2022-08-26 00:02:56           {74, 6}\n",
       "4      1259 2022-08-26 00:03:37  {20, 45, 67, 26}"
      ]
     },
     "execution_count": 9,
     "metadata": {},
     "output_type": "execute_result"
    }
   ],
   "source": [
    "orders.head()"
   ]
  },
  {
   "cell_type": "code",
   "execution_count": 10,
   "id": "ee517a7f",
   "metadata": {},
   "outputs": [
    {
     "data": {
      "text/plain": [
       "order_id         0\n",
       "creation_time    0\n",
       "product_ids      0\n",
       "dtype: int64"
      ]
     },
     "execution_count": 10,
     "metadata": {},
     "output_type": "execute_result"
    }
   ],
   "source": [
    "orders.isna().sum()"
   ]
  },
  {
   "cell_type": "code",
   "execution_count": 11,
   "id": "b623512d",
   "metadata": {},
   "outputs": [
    {
     "data": {
      "text/html": [
       "<div>\n",
       "<style scoped>\n",
       "    .dataframe tbody tr th:only-of-type {\n",
       "        vertical-align: middle;\n",
       "    }\n",
       "\n",
       "    .dataframe tbody tr th {\n",
       "        vertical-align: top;\n",
       "    }\n",
       "\n",
       "    .dataframe thead th {\n",
       "        text-align: right;\n",
       "    }\n",
       "</style>\n",
       "<table border=\"1\" class=\"dataframe\">\n",
       "  <thead>\n",
       "    <tr style=\"text-align: right;\">\n",
       "      <th></th>\n",
       "      <th>product_id</th>\n",
       "      <th>name</th>\n",
       "      <th>price</th>\n",
       "    </tr>\n",
       "  </thead>\n",
       "  <tbody>\n",
       "    <tr>\n",
       "      <th>0</th>\n",
       "      <td>1</td>\n",
       "      <td>сахар</td>\n",
       "      <td>150.0</td>\n",
       "    </tr>\n",
       "    <tr>\n",
       "      <th>1</th>\n",
       "      <td>2</td>\n",
       "      <td>чай зеленый в пакетиках</td>\n",
       "      <td>50.0</td>\n",
       "    </tr>\n",
       "    <tr>\n",
       "      <th>2</th>\n",
       "      <td>3</td>\n",
       "      <td>вода негазированная</td>\n",
       "      <td>80.4</td>\n",
       "    </tr>\n",
       "    <tr>\n",
       "      <th>3</th>\n",
       "      <td>4</td>\n",
       "      <td>леденцы</td>\n",
       "      <td>45.5</td>\n",
       "    </tr>\n",
       "    <tr>\n",
       "      <th>4</th>\n",
       "      <td>5</td>\n",
       "      <td>кофе 3 в 1</td>\n",
       "      <td>15.0</td>\n",
       "    </tr>\n",
       "  </tbody>\n",
       "</table>\n",
       "</div>"
      ],
      "text/plain": [
       "   product_id                     name  price\n",
       "0           1                    сахар  150.0\n",
       "1           2  чай зеленый в пакетиках   50.0\n",
       "2           3      вода негазированная   80.4\n",
       "3           4                  леденцы   45.5\n",
       "4           5               кофе 3 в 1   15.0"
      ]
     },
     "execution_count": 11,
     "metadata": {},
     "output_type": "execute_result"
    }
   ],
   "source": [
    "products.head()"
   ]
  },
  {
   "cell_type": "code",
   "execution_count": 12,
   "id": "8f381429",
   "metadata": {},
   "outputs": [
    {
     "data": {
      "text/plain": [
       "product_id    0\n",
       "name          0\n",
       "price         0\n",
       "dtype: int64"
      ]
     },
     "execution_count": 12,
     "metadata": {},
     "output_type": "execute_result"
    }
   ],
   "source": [
    "products.isna().sum()"
   ]
  },
  {
   "cell_type": "markdown",
   "id": "8934c5ea",
   "metadata": {},
   "source": [
    "### Для того, чтобы оценить, смогла ли новая система рекомендаций принести пользу бизнесу и пользователям, выберем метрики, которые помогут нам это понять. Как известно - \"клиент голосует рублем\". И если мы разработали действительно хорошую рекомендательную систему, и она помогает пользователям быстрее находить, те товары, которые им нужны, то это повысит лояльность клиентов, и как следствие они будут чаще использовать наше приложение, и больше тратить. И так, наша целевая метрика - сумма покупок пользователя. Посчитаем средние значения в двух группах и сравним результат. А так же, чтобы понимать, что оказывает влияние на целевую метрику, посчитаем дополнительные метрики - среднее количество покупок в неделю на пользователя, средняя сумма покупки, среднее количество товаров в заказе."
   ]
  },
  {
   "cell_type": "markdown",
   "id": "41430137",
   "metadata": {},
   "source": [
    "#### Посчитаем сумму заказа и количество товаров в заказе"
   ]
  },
  {
   "cell_type": "code",
   "execution_count": 13,
   "id": "c816fde0",
   "metadata": {},
   "outputs": [],
   "source": [
    "# Создадим серию формата: индекс - id товара, значение - цена товара\n",
    "prod_price = products.set_index('product_id').price\n",
    "\n",
    "# Функция принимает на вход список с id товара, возвращает список с ценами на товар\n",
    "def replace_price(list1):\n",
    "    list2=[]\n",
    "    for i in list1:\n",
    "       list2.append(prod_price.loc[int(i)])\n",
    "    return list2"
   ]
  },
  {
   "cell_type": "code",
   "execution_count": 14,
   "id": "c0dda501",
   "metadata": {},
   "outputs": [
    {
     "data": {
      "text/html": [
       "<div>\n",
       "<style scoped>\n",
       "    .dataframe tbody tr th:only-of-type {\n",
       "        vertical-align: middle;\n",
       "    }\n",
       "\n",
       "    .dataframe tbody tr th {\n",
       "        vertical-align: top;\n",
       "    }\n",
       "\n",
       "    .dataframe thead th {\n",
       "        text-align: right;\n",
       "    }\n",
       "</style>\n",
       "<table border=\"1\" class=\"dataframe\">\n",
       "  <thead>\n",
       "    <tr style=\"text-align: right;\">\n",
       "      <th></th>\n",
       "      <th>order_id</th>\n",
       "      <th>creation_time</th>\n",
       "      <th>product_ids</th>\n",
       "      <th>order_price</th>\n",
       "      <th>products_qty</th>\n",
       "    </tr>\n",
       "  </thead>\n",
       "  <tbody>\n",
       "    <tr>\n",
       "      <th>0</th>\n",
       "      <td>1255</td>\n",
       "      <td>2022-08-26 00:00:19</td>\n",
       "      <td>{75, 22, 53, 84}</td>\n",
       "      <td>408.7</td>\n",
       "      <td>4</td>\n",
       "    </tr>\n",
       "    <tr>\n",
       "      <th>1</th>\n",
       "      <td>1256</td>\n",
       "      <td>2022-08-26 00:02:21</td>\n",
       "      <td>{56, 76, 39}</td>\n",
       "      <td>250.5</td>\n",
       "      <td>3</td>\n",
       "    </tr>\n",
       "    <tr>\n",
       "      <th>2</th>\n",
       "      <td>1257</td>\n",
       "      <td>2022-08-26 00:02:27</td>\n",
       "      <td>{76, 34, 41, 38}</td>\n",
       "      <td>310.2</td>\n",
       "      <td>4</td>\n",
       "    </tr>\n",
       "    <tr>\n",
       "      <th>3</th>\n",
       "      <td>1258</td>\n",
       "      <td>2022-08-26 00:02:56</td>\n",
       "      <td>{74, 6}</td>\n",
       "      <td>85.0</td>\n",
       "      <td>2</td>\n",
       "    </tr>\n",
       "    <tr>\n",
       "      <th>4</th>\n",
       "      <td>1259</td>\n",
       "      <td>2022-08-26 00:03:37</td>\n",
       "      <td>{20, 45, 67, 26}</td>\n",
       "      <td>228.0</td>\n",
       "      <td>4</td>\n",
       "    </tr>\n",
       "  </tbody>\n",
       "</table>\n",
       "</div>"
      ],
      "text/plain": [
       "   order_id       creation_time       product_ids  order_price  products_qty\n",
       "0      1255 2022-08-26 00:00:19  {75, 22, 53, 84}        408.7             4\n",
       "1      1256 2022-08-26 00:02:21      {56, 76, 39}        250.5             3\n",
       "2      1257 2022-08-26 00:02:27  {76, 34, 41, 38}        310.2             4\n",
       "3      1258 2022-08-26 00:02:56           {74, 6}         85.0             2\n",
       "4      1259 2022-08-26 00:03:37  {20, 45, 67, 26}        228.0             4"
      ]
     },
     "execution_count": 14,
     "metadata": {},
     "output_type": "execute_result"
    }
   ],
   "source": [
    "# Создадим копию таблицы заказов и добавим колонки с суммой заказа и количеством товаров в заказе.\n",
    "orders_df = orders\n",
    "orders_df['order_price'] = orders_df.product_ids.apply(lambda x: sum(replace_price(x.strip('{}').split(', '))))\n",
    "orders_df['products_qty'] = orders_df.product_ids.apply(lambda x: len(set(x.strip('{}').split(', '))))\n",
    "orders_df.head()"
   ]
  },
  {
   "cell_type": "markdown",
   "id": "edcf861f",
   "metadata": {},
   "source": [
    "#### Отфильтруем все отмененные заказы, ведь нас интересуют только покупки"
   ]
  },
  {
   "cell_type": "code",
   "execution_count": 15,
   "id": "7c31b1b8",
   "metadata": {},
   "outputs": [
    {
     "data": {
      "text/html": [
       "<div>\n",
       "<style scoped>\n",
       "    .dataframe tbody tr th:only-of-type {\n",
       "        vertical-align: middle;\n",
       "    }\n",
       "\n",
       "    .dataframe tbody tr th {\n",
       "        vertical-align: top;\n",
       "    }\n",
       "\n",
       "    .dataframe thead th {\n",
       "        text-align: right;\n",
       "    }\n",
       "</style>\n",
       "<table border=\"1\" class=\"dataframe\">\n",
       "  <thead>\n",
       "    <tr style=\"text-align: right;\">\n",
       "      <th></th>\n",
       "      <th>user_id</th>\n",
       "      <th>order_id</th>\n",
       "      <th>group</th>\n",
       "      <th>order_price</th>\n",
       "      <th>products_qty</th>\n",
       "    </tr>\n",
       "  </thead>\n",
       "  <tbody>\n",
       "    <tr>\n",
       "      <th>0</th>\n",
       "      <td>964</td>\n",
       "      <td>1255</td>\n",
       "      <td>0</td>\n",
       "      <td>408.7</td>\n",
       "      <td>4</td>\n",
       "    </tr>\n",
       "    <tr>\n",
       "      <th>1</th>\n",
       "      <td>965</td>\n",
       "      <td>1256</td>\n",
       "      <td>1</td>\n",
       "      <td>250.5</td>\n",
       "      <td>3</td>\n",
       "    </tr>\n",
       "    <tr>\n",
       "      <th>2</th>\n",
       "      <td>964</td>\n",
       "      <td>1257</td>\n",
       "      <td>0</td>\n",
       "      <td>310.2</td>\n",
       "      <td>4</td>\n",
       "    </tr>\n",
       "    <tr>\n",
       "      <th>3</th>\n",
       "      <td>967</td>\n",
       "      <td>1259</td>\n",
       "      <td>1</td>\n",
       "      <td>228.0</td>\n",
       "      <td>4</td>\n",
       "    </tr>\n",
       "    <tr>\n",
       "      <th>4</th>\n",
       "      <td>968</td>\n",
       "      <td>1261</td>\n",
       "      <td>0</td>\n",
       "      <td>430.7</td>\n",
       "      <td>4</td>\n",
       "    </tr>\n",
       "  </tbody>\n",
       "</table>\n",
       "</div>"
      ],
      "text/plain": [
       "   user_id  order_id  group  order_price  products_qty\n",
       "0      964      1255      0        408.7             4\n",
       "1      965      1256      1        250.5             3\n",
       "2      964      1257      0        310.2             4\n",
       "3      967      1259      1        228.0             4\n",
       "4      968      1261      0        430.7             4"
      ]
     },
     "execution_count": 15,
     "metadata": {},
     "output_type": "execute_result"
    }
   ],
   "source": [
    "# Недостаточно просто отфильтровать отмененные заказы в столбце action, \n",
    "# т.к. каждый отмененный заказ имеет также запись, когда он был создан, поэтому сделаем следующее:\n",
    "orders_cancel_id = users_data.query('action==\"cancel_order\"').order_id.to_list()\n",
    "purchase_df = users_data.query('order_id!=@orders_cancel_id')\n",
    "\n",
    "# Добавим колонки с суммой заказа и количеством товаров в чеке,\n",
    "# оставим тоько интересующие нас столбцы\n",
    "purchase_df = purchase_df.merge(orders_df[['order_id', 'order_price', 'products_qty']])[['user_id',\n",
    "                                                                                        'order_id',\n",
    "                                                                                        'group',\n",
    "                                                                                        'order_price',\n",
    "                                                                                        'products_qty']]\n",
    "purchase_df.head()"
   ]
  },
  {
   "cell_type": "markdown",
   "id": "67a5b3a5",
   "metadata": {},
   "source": [
    "#### Теперь считаем для каждого пользователя - количество покупок в неделю и сумму всех покупок."
   ]
  },
  {
   "cell_type": "code",
   "execution_count": 16,
   "id": "6c8bdbee",
   "metadata": {},
   "outputs": [
    {
     "data": {
      "text/html": [
       "<div>\n",
       "<style scoped>\n",
       "    .dataframe tbody tr th:only-of-type {\n",
       "        vertical-align: middle;\n",
       "    }\n",
       "\n",
       "    .dataframe tbody tr th {\n",
       "        vertical-align: top;\n",
       "    }\n",
       "\n",
       "    .dataframe thead th {\n",
       "        text-align: right;\n",
       "    }\n",
       "</style>\n",
       "<table border=\"1\" class=\"dataframe\">\n",
       "  <thead>\n",
       "    <tr style=\"text-align: right;\">\n",
       "      <th></th>\n",
       "      <th>user_id</th>\n",
       "      <th>group</th>\n",
       "      <th>purchase_week</th>\n",
       "      <th>purchase_sum</th>\n",
       "    </tr>\n",
       "  </thead>\n",
       "  <tbody>\n",
       "    <tr>\n",
       "      <th>0</th>\n",
       "      <td>964</td>\n",
       "      <td>0</td>\n",
       "      <td>1.0</td>\n",
       "      <td>718.9</td>\n",
       "    </tr>\n",
       "    <tr>\n",
       "      <th>1</th>\n",
       "      <td>965</td>\n",
       "      <td>1</td>\n",
       "      <td>4.5</td>\n",
       "      <td>4155.5</td>\n",
       "    </tr>\n",
       "    <tr>\n",
       "      <th>2</th>\n",
       "      <td>967</td>\n",
       "      <td>1</td>\n",
       "      <td>2.5</td>\n",
       "      <td>1137.4</td>\n",
       "    </tr>\n",
       "    <tr>\n",
       "      <th>3</th>\n",
       "      <td>968</td>\n",
       "      <td>0</td>\n",
       "      <td>1.5</td>\n",
       "      <td>1590.7</td>\n",
       "    </tr>\n",
       "    <tr>\n",
       "      <th>4</th>\n",
       "      <td>969</td>\n",
       "      <td>0</td>\n",
       "      <td>1.0</td>\n",
       "      <td>681.9</td>\n",
       "    </tr>\n",
       "  </tbody>\n",
       "</table>\n",
       "</div>"
      ],
      "text/plain": [
       "   user_id  group  purchase_week  purchase_sum\n",
       "0      964      0            1.0         718.9\n",
       "1      965      1            4.5        4155.5\n",
       "2      967      1            2.5        1137.4\n",
       "3      968      0            1.5        1590.7\n",
       "4      969      0            1.0         681.9"
      ]
     },
     "execution_count": 16,
     "metadata": {},
     "output_type": "execute_result"
    }
   ],
   "source": [
    "users_df = purchase_df.groupby('user_id', as_index=False).agg({'order_id':'count', 'order_price':'sum', 'group':'min'})\n",
    "users_df['purchase_week'] = users_df.order_id/2\n",
    "users_df = users_df.drop(columns='order_id').rename(columns={'order_price':'purchase_sum'})[['user_id',\n",
    "                                                                                             'group',\n",
    "                                                                                             'purchase_week',\n",
    "                                                                                             'purchase_sum']]\n",
    "users_df.head()"
   ]
  },
  {
   "cell_type": "markdown",
   "id": "fd9a31ee",
   "metadata": {},
   "source": [
    "### Ну а теперь сравним наши метрики по группам. "
   ]
  },
  {
   "cell_type": "markdown",
   "id": "066081ee",
   "metadata": {},
   "source": [
    "### 1. Сумма покупок пользователя"
   ]
  },
  {
   "cell_type": "code",
   "execution_count": 17,
   "id": "97955c56",
   "metadata": {
    "scrolled": true
   },
   "outputs": [
    {
     "name": "stdout",
     "output_type": "stream",
     "text": [
      "Группа 0 - 1139.5623046875003\n",
      "Группа 1 - 1753.7493013972044\n"
     ]
    }
   ],
   "source": [
    "# Посмотрим на средние значения\n",
    "print('Группа 0 -', users_df.query('group==0').purchase_sum.mean())\n",
    "print('Группа 1 -', users_df.query('group==1').purchase_sum.mean())"
   ]
  },
  {
   "cell_type": "markdown",
   "id": "d7ac2393",
   "metadata": {},
   "source": [
    "#### На глаз, значения значительно отличаются. Проверим, является ли отличие статистически значимым"
   ]
  },
  {
   "cell_type": "code",
   "execution_count": 27,
   "id": "c3bd311d",
   "metadata": {},
   "outputs": [
    {
     "data": {
      "text/plain": [
       "<seaborn.axisgrid.FacetGrid at 0x1bd5c8c0ee0>"
      ]
     },
     "execution_count": 27,
     "metadata": {},
     "output_type": "execute_result"
    },
    {
     "data": {
      "image/png": "[encoded data removed]",
      "text/plain": [
       "<Figure size 558.875x500 with 1 Axes>"
      ]
     },
     "metadata": {},
     "output_type": "display_data"
    }
   ],
   "source": [
    "# Посмотрим на распределения значений по группам\n",
    "sns.displot(data=users_df, x='purchase_sum', hue='group')"
   ]
  },
  {
   "cell_type": "markdown",
   "id": "3f317870",
   "metadata": {},
   "source": [
    "#### Как мы видим распределения значений в группах не нормальные. Попробуем прологарифмировать данные."
   ]
  },
  {
   "cell_type": "code",
   "execution_count": 28,
   "id": "f432af87",
   "metadata": {},
   "outputs": [],
   "source": [
    "users_df['purchase_sum_log'] = np.log(users_df.purchase_sum)"
   ]
  },
  {
   "cell_type": "code",
   "execution_count": 29,
   "id": "57f39182",
   "metadata": {},
   "outputs": [
    {
     "data": {
      "text/plain": [
       "<seaborn.axisgrid.FacetGrid at 0x1bd5c920700>"
      ]
     },
     "execution_count": 29,
     "metadata": {},
     "output_type": "execute_result"
    },
    {
     "data": {
      "image/png": "[encoded data removed]",
      "text/plain": [
       "<Figure size 558.875x500 with 1 Axes>"
      ]
     },
     "metadata": {},
     "output_type": "display_data"
    }
   ],
   "source": [
    "sns.displot(data=users_df, x='purchase_sum_log', hue='group')"
   ]
  },
  {
   "cell_type": "markdown",
   "id": "4ed50cb8",
   "metadata": {},
   "source": [
    "#### Распределения стали чуть больше походить на нормальные, но далеко не идеально, и тест на нормальность это подтвердил:"
   ]
  },
  {
   "cell_type": "code",
   "execution_count": 30,
   "id": "fbcb8e74",
   "metadata": {},
   "outputs": [
    {
     "data": {
      "text/plain": [
       "ShapiroResult(statistic=0.9639689326286316, pvalue=7.013033487268672e-10)"
      ]
     },
     "execution_count": 30,
     "metadata": {},
     "output_type": "execute_result"
    }
   ],
   "source": [
    "stats.shapiro(users_df.query('group==0').purchase_sum_log)"
   ]
  },
  {
   "cell_type": "code",
   "execution_count": 31,
   "id": "959aa5c3",
   "metadata": {},
   "outputs": [
    {
     "data": {
      "text/plain": [
       "ShapiroResult(statistic=0.9233781695365906, pvalue=2.7245617312152094e-15)"
      ]
     },
     "execution_count": 31,
     "metadata": {},
     "output_type": "execute_result"
    }
   ],
   "source": [
    "stats.shapiro(users_df.query('group==1').purchase_sum_log)"
   ]
  },
  {
   "cell_type": "markdown",
   "id": "9e0300fb",
   "metadata": {},
   "source": [
    "#### В целом наши выборки довольно большие и данные с такими распределениями уже можно сравнивать t-тестом. Для верности проведем тест на исходных данных и на прологарифмированных."
   ]
  },
  {
   "cell_type": "markdown",
   "id": "7fc7aa98",
   "metadata": {},
   "source": [
    "#### Ну и все же, т.к. распределения не являются нормальными, лишний раз проверим себя и используем непараметрический аналог t-теста – U-критерий Манна-Уитни"
   ]
  },
  {
   "cell_type": "code",
   "execution_count": 32,
   "id": "7e6814cb",
   "metadata": {},
   "outputs": [
    {
     "data": {
      "text/plain": [
       "Ttest_indResult(statistic=-11.225235903309473, pvalue=1.2229806926590577e-27)"
      ]
     },
     "execution_count": 32,
     "metadata": {},
     "output_type": "execute_result"
    }
   ],
   "source": [
    "stats.ttest_ind(users_df.query('group==0').purchase_sum, users_df.query('group==1').purchase_sum)"
   ]
  },
  {
   "cell_type": "code",
   "execution_count": 33,
   "id": "f663e0bd",
   "metadata": {},
   "outputs": [
    {
     "data": {
      "text/plain": [
       "Ttest_indResult(statistic=-11.08391402288944, pvalue=5.032969014292207e-27)"
      ]
     },
     "execution_count": 33,
     "metadata": {},
     "output_type": "execute_result"
    }
   ],
   "source": [
    "stats.ttest_ind(users_df.query('group==0').purchase_sum_log, users_df.query('group==1').purchase_sum_log)"
   ]
  },
  {
   "cell_type": "code",
   "execution_count": 34,
   "id": "6ed96891",
   "metadata": {},
   "outputs": [
    {
     "data": {
      "text/plain": [
       "MannwhitneyuResult(statistic=75129.5, pvalue=3.683313730560073e-30)"
      ]
     },
     "execution_count": 34,
     "metadata": {},
     "output_type": "execute_result"
    }
   ],
   "source": [
    "stats.mannwhitneyu(users_df.query('group==0').purchase_sum, users_df.query('group==1').purchase_sum)"
   ]
  },
  {
   "cell_type": "markdown",
   "id": "cb222505",
   "metadata": {},
   "source": [
    "#### Во всех случаях мы получили p-value значительно меньше 0.05. Это говорит нам о том, что суммы покупок пользователей статистически значимо отличаются. И мы с высокой степенью вероятности можем утверждать - новая рекомендательная система положительно повлияла на нашу ключевую метрику.  "
   ]
  },
  {
   "cell_type": "markdown",
   "id": "ef02b446",
   "metadata": {},
   "source": [
    "#### Подобным образом сравним остальные наши метрики"
   ]
  },
  {
   "cell_type": "markdown",
   "id": "d230297c",
   "metadata": {},
   "source": [
    "### 2. Среднее количество покупок в неделю"
   ]
  },
  {
   "cell_type": "code",
   "execution_count": 35,
   "id": "c9b7f7a7",
   "metadata": {},
   "outputs": [
    {
     "name": "stdout",
     "output_type": "stream",
     "text": [
      "Группа 0 - 1.4912109375\n",
      "Группа 1 - 2.377245508982036\n"
     ]
    }
   ],
   "source": [
    "# Cредние значения\n",
    "print('Группа 0 -', users_df.query('group==0').purchase_week.mean())\n",
    "print('Группа 1 -', users_df.query('group==1').purchase_week.mean())"
   ]
  },
  {
   "cell_type": "code",
   "execution_count": 36,
   "id": "eca12381",
   "metadata": {},
   "outputs": [
    {
     "data": {
      "text/plain": [
       "<seaborn.axisgrid.FacetGrid at 0x1bd5c8c0fa0>"
      ]
     },
     "execution_count": 36,
     "metadata": {},
     "output_type": "execute_result"
    },
    {
     "data": {
      "image/png": "[encoded data removed]",
      "text/plain": [
       "<Figure size 558.875x500 with 1 Axes>"
      ]
     },
     "metadata": {},
     "output_type": "display_data"
    }
   ],
   "source": [
    "# Распределение значений\n",
    "sns.displot(data=users_df, x='purchase_week', hue='group')"
   ]
  },
  {
   "cell_type": "code",
   "execution_count": 38,
   "id": "cc572b9a",
   "metadata": {},
   "outputs": [],
   "source": [
    "users_df['purchase_week_log'] = np.log(users_df.purchase_week)"
   ]
  },
  {
   "cell_type": "code",
   "execution_count": 39,
   "id": "72354a48",
   "metadata": {},
   "outputs": [
    {
     "data": {
      "text/plain": [
       "<seaborn.axisgrid.FacetGrid at 0x1bd5c867580>"
      ]
     },
     "execution_count": 39,
     "metadata": {},
     "output_type": "execute_result"
    },
    {
     "data": {
      "image/png": "[encoded data removed]",
      "text/plain": [
       "<Figure size 558.875x500 with 1 Axes>"
      ]
     },
     "metadata": {},
     "output_type": "display_data"
    }
   ],
   "source": [
    "# Распределение прологарифмированных значений\n",
    "sns.displot(data=users_df, x='purchase_week_log', hue='group')"
   ]
  },
  {
   "cell_type": "code",
   "execution_count": 40,
   "id": "6e1a67a4",
   "metadata": {},
   "outputs": [
    {
     "data": {
      "text/plain": [
       "Ttest_indResult(statistic=-13.993124788985595, pvalue=8.430777321728061e-41)"
      ]
     },
     "execution_count": 40,
     "metadata": {},
     "output_type": "execute_result"
    }
   ],
   "source": [
    "stats.ttest_ind(users_df.query('group==0').purchase_week, users_df.query('group==1').purchase_week)"
   ]
  },
  {
   "cell_type": "code",
   "execution_count": 41,
   "id": "4e9fa03f",
   "metadata": {},
   "outputs": [
    {
     "data": {
      "text/plain": [
       "Ttest_indResult(statistic=-14.526145736482459, pvalue=1.460250358304666e-43)"
      ]
     },
     "execution_count": 41,
     "metadata": {},
     "output_type": "execute_result"
    }
   ],
   "source": [
    "stats.ttest_ind(users_df.query('group==0').purchase_week_log, users_df.query('group==1').purchase_week_log)"
   ]
  },
  {
   "cell_type": "code",
   "execution_count": 42,
   "id": "a05c61ec",
   "metadata": {},
   "outputs": [
    {
     "data": {
      "text/plain": [
       "MannwhitneyuResult(statistic=62993.5, pvalue=1.2199751971495041e-45)"
      ]
     },
     "execution_count": 42,
     "metadata": {},
     "output_type": "execute_result"
    }
   ],
   "source": [
    "stats.mannwhitneyu(users_df.query('group==0').purchase_week, users_df.query('group==1').purchase_week)"
   ]
  },
  {
   "cell_type": "markdown",
   "id": "23d956b6",
   "metadata": {},
   "source": [
    "#### Так же как и в первом случае все тесты показали, что есть статистически значимые различия между средним количеством покупок  в неделю у пользователей в тестовой и контрольной группе."
   ]
  },
  {
   "cell_type": "markdown",
   "id": "b5bedb6b",
   "metadata": {},
   "source": [
    "### 3. Средняя сумма покупки"
   ]
  },
  {
   "cell_type": "code",
   "execution_count": 43,
   "id": "8583e286",
   "metadata": {},
   "outputs": [
    {
     "name": "stdout",
     "output_type": "stream",
     "text": [
      "Группа 0 - 382.0929273084494\n",
      "Группа 1 - 368.8616288832959\n"
     ]
    }
   ],
   "source": [
    "# Cредние значения\n",
    "print('Группа 0 -', purchase_df.query('group==0').order_price.mean())\n",
    "print('Группа 1 -', purchase_df.query('group==1').order_price.mean())"
   ]
  },
  {
   "cell_type": "markdown",
   "id": "3e9e9512",
   "metadata": {},
   "source": [
    "#### В данном случае наша метрика в тестовой группе меньше, чем в контрольной, проверим является ли данная разница статистически значимой"
   ]
  },
  {
   "cell_type": "code",
   "execution_count": 44,
   "id": "e19e5682",
   "metadata": {},
   "outputs": [
    {
     "data": {
      "text/plain": [
       "<seaborn.axisgrid.FacetGrid at 0x1bd5cf61400>"
      ]
     },
     "execution_count": 44,
     "metadata": {},
     "output_type": "execute_result"
    },
    {
     "data": {
      "image/png": "[encoded data removed]",
      "text/plain": [
       "<Figure size 558.875x500 with 1 Axes>"
      ]
     },
     "metadata": {},
     "output_type": "display_data"
    }
   ],
   "source": [
    "# Распределение значений\n",
    "sns.displot(data=purchase_df, x='order_price', hue='group')"
   ]
  },
  {
   "cell_type": "code",
   "execution_count": 45,
   "id": "4d6bd13c",
   "metadata": {},
   "outputs": [],
   "source": [
    "purchase_df['order_price_log'] = np.log(purchase_df.order_price)"
   ]
  },
  {
   "cell_type": "code",
   "execution_count": 47,
   "id": "175e2d74",
   "metadata": {},
   "outputs": [
    {
     "data": {
      "text/plain": [
       "<seaborn.axisgrid.FacetGrid at 0x1bd5bf0e5b0>"
      ]
     },
     "execution_count": 47,
     "metadata": {},
     "output_type": "execute_result"
    },
    {
     "data": {
      "image/png": "[encoded data removed]",
      "text/plain": [
       "<Figure size 558.875x500 with 1 Axes>"
      ]
     },
     "metadata": {},
     "output_type": "display_data"
    }
   ],
   "source": [
    "# Распределение прологарифмированных значений\n",
    "sns.displot(data=purchase_df, x='order_price_log', hue='group')"
   ]
  },
  {
   "cell_type": "code",
   "execution_count": 48,
   "id": "f2d5049f",
   "metadata": {},
   "outputs": [
    {
     "data": {
      "text/plain": [
       "Ttest_indResult(statistic=1.6334875192269402, pvalue=0.10244707728234669)"
      ]
     },
     "execution_count": 48,
     "metadata": {},
     "output_type": "execute_result"
    }
   ],
   "source": [
    "stats.ttest_ind(purchase_df.query('group==0').order_price, purchase_df.query('group==1').order_price)"
   ]
  },
  {
   "cell_type": "code",
   "execution_count": 49,
   "id": "8033be62",
   "metadata": {},
   "outputs": [
    {
     "data": {
      "text/plain": [
       "Ttest_indResult(statistic=1.7522118532194424, pvalue=0.07981582868828002)"
      ]
     },
     "execution_count": 49,
     "metadata": {},
     "output_type": "execute_result"
    }
   ],
   "source": [
    "stats.ttest_ind(purchase_df.query('group==0').order_price_log, purchase_df.query('group==1').order_price_log)"
   ]
  },
  {
   "cell_type": "code",
   "execution_count": 50,
   "id": "dcb00deb",
   "metadata": {},
   "outputs": [
    {
     "data": {
      "text/plain": [
       "MannwhitneyuResult(statistic=1879868.0, pvalue=0.07539952478041778)"
      ]
     },
     "execution_count": 50,
     "metadata": {},
     "output_type": "execute_result"
    }
   ],
   "source": [
    "stats.mannwhitneyu(purchase_df.query('group==0').order_price, purchase_df.query('group==1').order_price)"
   ]
  },
  {
   "cell_type": "markdown",
   "id": "bd1171d5",
   "metadata": {},
   "source": [
    "#### p-value > 0.05 во всех тестах, значит у нас нет оснований отклонять нулевую гипотезу и утверждать, что средняя сумма покупки в тестовой и контрольной группе статистически значимо отличается."
   ]
  },
  {
   "cell_type": "markdown",
   "id": "e3e721a2",
   "metadata": {},
   "source": [
    "### 4.Среднее колчество товаров в заказе"
   ]
  },
  {
   "cell_type": "code",
   "execution_count": 51,
   "id": "03ac1a85",
   "metadata": {},
   "outputs": [
    {
     "name": "stdout",
     "output_type": "stream",
     "text": [
      "Группа 0 - 3.275049115913556\n",
      "Группа 1 - 3.283795130142737\n"
     ]
    }
   ],
   "source": [
    "# Cредние значения\n",
    "print('Группа 0 -', purchase_df.query('group==0').products_qty.mean())\n",
    "print('Группа 1 -', purchase_df.query('group==1').products_qty.mean())"
   ]
  },
  {
   "cell_type": "markdown",
   "id": "8d8addef",
   "metadata": {},
   "source": [
    "#### Средние значения практически не отличаются, но все равно проведем тест, чтобы убедиться в правильности наших суждений."
   ]
  },
  {
   "cell_type": "code",
   "execution_count": 52,
   "id": "a24bee0a",
   "metadata": {},
   "outputs": [
    {
     "data": {
      "text/plain": [
       "<seaborn.axisgrid.FacetGrid at 0x1bd5c8284c0>"
      ]
     },
     "execution_count": 52,
     "metadata": {},
     "output_type": "execute_result"
    },
    {
     "data": {
      "image/png": "[encoded data removed]",
      "text/plain": [
       "<Figure size 558.875x500 with 1 Axes>"
      ]
     },
     "metadata": {},
     "output_type": "display_data"
    }
   ],
   "source": [
    "# Распределение значений\n",
    "sns.displot(data=purchase_df, x='products_qty', hue='group')"
   ]
  },
  {
   "cell_type": "code",
   "execution_count": 53,
   "id": "79c46250",
   "metadata": {},
   "outputs": [],
   "source": [
    "purchase_df['products_qty_log'] = np.log(purchase_df.products_qty)"
   ]
  },
  {
   "cell_type": "code",
   "execution_count": 54,
   "id": "acaa22e5",
   "metadata": {},
   "outputs": [
    {
     "data": {
      "text/plain": [
       "<seaborn.axisgrid.FacetGrid at 0x1bd5e8452b0>"
      ]
     },
     "execution_count": 54,
     "metadata": {},
     "output_type": "execute_result"
    },
    {
     "data": {
      "image/png": "[encoded data removed]",
      "text/plain": [
       "<Figure size 558.875x500 with 1 Axes>"
      ]
     },
     "metadata": {},
     "output_type": "display_data"
    }
   ],
   "source": [
    "# Распределение прологарифмированных значений\n",
    "sns.displot(data=purchase_df, x='products_qty_log', hue='group')"
   ]
  },
  {
   "cell_type": "code",
   "execution_count": 55,
   "id": "0f1ac8c0",
   "metadata": {},
   "outputs": [
    {
     "data": {
      "text/plain": [
       "Ttest_indResult(statistic=-0.21245978992137568, pvalue=0.8317594280160369)"
      ]
     },
     "execution_count": 55,
     "metadata": {},
     "output_type": "execute_result"
    }
   ],
   "source": [
    "stats.ttest_ind(purchase_df.query('group==0').products_qty, purchase_df.query('group==1').products_qty)"
   ]
  },
  {
   "cell_type": "code",
   "execution_count": 56,
   "id": "5359c8cd",
   "metadata": {},
   "outputs": [
    {
     "data": {
      "text/plain": [
       "Ttest_indResult(statistic=0.057092604388271746, pvalue=0.9544743471562445)"
      ]
     },
     "execution_count": 56,
     "metadata": {},
     "output_type": "execute_result"
    }
   ],
   "source": [
    "stats.ttest_ind(purchase_df.query('group==0').products_qty_log, purchase_df.query('group==1').products_qty_log)"
   ]
  },
  {
   "cell_type": "code",
   "execution_count": 57,
   "id": "67ae262e",
   "metadata": {},
   "outputs": [
    {
     "data": {
      "text/plain": [
       "MannwhitneyuResult(statistic=1807394.5, pvalue=0.7362991256798654)"
      ]
     },
     "execution_count": 57,
     "metadata": {},
     "output_type": "execute_result"
    }
   ],
   "source": [
    "stats.mannwhitneyu(purchase_df.query('group==0').products_qty, purchase_df.query('group==1').products_qty)"
   ]
  },
  {
   "cell_type": "markdown",
   "id": "2797c24c",
   "metadata": {},
   "source": [
    "#### Все тесты показали большое значение p-value. Статистически значимых различий в среднем количестве товаров в заказе между двумя группами выявить не удалось."
   ]
  },
  {
   "cell_type": "markdown",
   "id": "1a7ec28d",
   "metadata": {},
   "source": [
    "### Выводы:\n",
    "### На основе данных полученных в результате А/В-теста, мы имеем следующие результаты:\n",
    "### Средняя сумма покупок пользователей(за две недели) в тестовой группе с новой системой рекомендаций составила 1753руб., в группе со старой версией приложения - 1139руб.\n",
    "### Среднее количество покупок(в неделю) - 2.38 и 1.49 соответственно.\n",
    "### Мы с высокой степенью вероятности можем утверждать, что данные различия не случайны и являются следствием использования новой системы рекомендации товаров. А значит нам стоит применить данную рекомендательную систему на всех пользователей."
   ]
  },
  {
   "cell_type": "code",
   "execution_count": null,
   "id": "7a4b5584",
   "metadata": {},
   "outputs": [],
   "source": []
  }
 ],
 "metadata": {
  "kernelspec": {
   "display_name": "Python 3 (ipykernel)",
   "language": "python",
   "name": "python3"
  },
  "language_info": {
   "codemirror_mode": {
    "name": "ipython",
    "version": 3
   },
   "file_extension": ".py",
   "mimetype": "text/x-python",
   "name": "python",
   "nbconvert_exporter": "python",
   "pygments_lexer": "ipython3",
   "version": "3.9.13"
  }
 },
 "nbformat": 4,
 "nbformat_minor": 5
}
